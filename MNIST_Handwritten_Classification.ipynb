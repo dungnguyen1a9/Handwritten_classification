{
 "cells": [
  {
   "cell_type": "markdown",
   "metadata": {},
   "source": [
    "# Load MNIST Dataset"
   ]
  },
  {
   "cell_type": "code",
   "execution_count": 1,
   "metadata": {},
   "outputs": [],
   "source": [
    "from sklearn.datasets import fetch_openml\n",
    "mnist = fetch_openml('mnist_784', version = 1)"
   ]
  },
  {
   "cell_type": "markdown",
   "metadata": {},
   "source": [
    "# Import the libraries"
   ]
  },
  {
   "cell_type": "code",
   "execution_count": 55,
   "metadata": {},
   "outputs": [],
   "source": [
    "import numpy as np\n",
    "# plotting libraries\n",
    "import matplotlib as mpl\n",
    "import matplotlib.pyplot as plt \n",
    "from sklearn.linear_model import SGDClassifier\n",
    "from sklearn.model_selection import train_test_split\n",
    "\n",
    "# performance measures \n",
    "from sklearn.model_selection import StratifiedKFold\n",
    "from sklearn.base import clone\n",
    "from sklearn.model_selection import cross_val_score\n",
    "\n",
    "## confusion matrix\n",
    "from sklearn.model_selection import cross_val_predict\n",
    "from sklearn.metrics import confusion_matrix\n",
    "\n",
    "## precision and recall\n",
    "from sklearn.metrics import precision_score, recall_score, f1_score"
   ]
  },
  {
   "cell_type": "code",
   "execution_count": 3,
   "metadata": {},
   "outputs": [
    {
     "name": "stdout",
     "output_type": "stream",
     "text": [
      "(70000, 784)\n",
      "(70000,)\n"
     ]
    }
   ],
   "source": [
    "X,y = mnist[\"data\"], mnist[\"target\"]\n",
    "print(X.shape)\n",
    "print(y.shape)"
   ]
  },
  {
   "cell_type": "markdown",
   "metadata": {},
   "source": [
    "# Simple Exploratory Dataset"
   ]
  },
  {
   "cell_type": "code",
   "execution_count": 4,
   "metadata": {},
   "outputs": [
    {
     "data": {
      "text/plain": [
       "(784,)"
      ]
     },
     "execution_count": 4,
     "metadata": {},
     "output_type": "execute_result"
    }
   ],
   "source": [
    "ex_digit = X[0]\n",
    "ex_digit.shape"
   ]
  },
  {
   "cell_type": "code",
   "execution_count": 5,
   "metadata": {},
   "outputs": [
    {
     "data": {
      "image/png": "[encoded data removed]",
      "text/plain": [
       "<Figure size 432x288 with 1 Axes>"
      ]
     },
     "metadata": {
      "needs_background": "light"
     },
     "output_type": "display_data"
    }
   ],
   "source": [
    "ex_digit_im = ex_digit.reshape(28,28)\n",
    "plt.imshow(ex_digit_im, cmap = mpl.cm.binary, interpolation =\"nearest\")\n",
    "plt.show()"
   ]
  },
  {
   "cell_type": "code",
   "execution_count": 6,
   "metadata": {},
   "outputs": [
    {
     "data": {
      "text/plain": [
       "'5'"
      ]
     },
     "execution_count": 6,
     "metadata": {},
     "output_type": "execute_result"
    }
   ],
   "source": [
    "y[0] # check label of X[0]"
   ]
  },
  {
   "cell_type": "code",
   "execution_count": 7,
   "metadata": {},
   "outputs": [
    {
     "data": {
      "text/plain": [
       "(784,)"
      ]
     },
     "execution_count": 7,
     "metadata": {},
     "output_type": "execute_result"
    }
   ],
   "source": [
    "ex_digit.shape"
   ]
  },
  {
   "cell_type": "code",
   "execution_count": 8,
   "metadata": {},
   "outputs": [],
   "source": [
    "y = y.astype(np.uint8)"
   ]
  },
  {
   "cell_type": "markdown",
   "metadata": {},
   "source": [
    "# Training by Using Stochastic Gradient Descent Classifier"
   ]
  },
  {
   "cell_type": "code",
   "execution_count": 9,
   "metadata": {},
   "outputs": [],
   "source": [
    "X_train, X_test, y_train, y_test = X[:60000], X[60000:], y[:60000], y[60000:]\n",
    "#X_train, X_test, y_train, y_test = train_test_split(X,y, test_size = 0.25, random_state = 42)"
   ]
  },
  {
   "cell_type": "code",
   "execution_count": 12,
   "metadata": {},
   "outputs": [
    {
     "data": {
      "text/plain": [
       "SGDClassifier(alpha=0.0001, average=False, class_weight=None,\n",
       "              early_stopping=False, epsilon=0.1, eta0=0.0, fit_intercept=True,\n",
       "              l1_ratio=0.15, learning_rate='optimal', loss='hinge',\n",
       "              max_iter=1000, n_iter_no_change=5, n_jobs=None, penalty='l2',\n",
       "              power_t=0.5, random_state=42, shuffle=True, tol=0.001,\n",
       "              validation_fraction=0.1, verbose=0, warm_start=False)"
      ]
     },
     "execution_count": 12,
     "metadata": {},
     "output_type": "execute_result"
    }
   ],
   "source": [
    "y_train_5 = (y_train == 5)\n",
    "y_test_5 = (y_test == 5)\n",
    "#sgd_classifier = []\n",
    "sgd_classifier = SGDClassifier(random_state = 42 )\n",
    "sgd_classifier.fit(X_train, y_train_5)"
   ]
  },
  {
   "cell_type": "code",
   "execution_count": 11,
   "metadata": {},
   "outputs": [
    {
     "data": {
      "text/plain": [
       "array([ True])"
      ]
     },
     "execution_count": 11,
     "metadata": {},
     "output_type": "execute_result"
    }
   ],
   "source": [
    "sgd_classifier.predict([ex_digit])"
   ]
  },
  {
   "cell_type": "markdown",
   "metadata": {},
   "source": [
    "# Performance Measures:\n",
    "## Measuring Accuracy Using Cross-Validation"
   ]
  },
  {
   "cell_type": "code",
   "execution_count": 13,
   "metadata": {},
   "outputs": [
    {
     "data": {
      "text/plain": [
       "array([0.95035, 0.96035, 0.9604 ])"
      ]
     },
     "execution_count": 13,
     "metadata": {},
     "output_type": "execute_result"
    }
   ],
   "source": [
    "cross_val_score(sgd_classifier, X_train, y_train_5, cv=3, scoring=\"accuracy\")"
   ]
  },
  {
   "cell_type": "markdown",
   "metadata": {},
   "source": [
    "</b> The accuracy is really high but it is really that accurate ? "
   ]
  },
  {
   "cell_type": "code",
   "execution_count": 14,
   "metadata": {},
   "outputs": [
    {
     "name": "stdout",
     "output_type": "stream",
     "text": [
      "Percentage of number 5 in dataset: 9.035%\n"
     ]
    }
   ],
   "source": [
    "num_of_5_in_dataset = np.sum(y_train_5)/len(y_train_5)*100\n",
    "print(\"Percentage of number 5 in dataset: \" +  str(num_of_5_in_dataset) + \"%\")"
   ]
  },
  {
   "cell_type": "markdown",
   "metadata": {},
   "source": [
    "</b> There is only 9% of number 5 in dataset, and that means that if our model predict Not Number 5 (False) every time, we still can get about 90-91% of accuracy. This result shows that Accuracy Method is not preferred performance measure for classifiers or at least with skewed dataset. </b>\n",
    "\n",
    "</b> Confusion matrix will be used for Performance measure </b>"
   ]
  },
  {
   "cell_type": "markdown",
   "metadata": {},
   "source": [
    "## Confusion Matrix"
   ]
  },
  {
   "cell_type": "code",
   "execution_count": 15,
   "metadata": {},
   "outputs": [],
   "source": [
    "# obtain set of prediction from SGDClassifier\n",
    "y_train_predict = cross_val_predict(sgd_classifier, X_train, y_train_5, cv=3)"
   ]
  },
  {
   "cell_type": "code",
   "execution_count": 16,
   "metadata": {},
   "outputs": [
    {
     "data": {
      "text/plain": [
       "array([[53892,   687],\n",
       "       [ 1891,  3530]])"
      ]
     },
     "execution_count": 16,
     "metadata": {},
     "output_type": "execute_result"
    }
   ],
   "source": [
    "confusion_matrix(y_train_5,y_train_predict)"
   ]
  },
  {
   "cell_type": "markdown",
   "metadata": {},
   "source": [
    "</b> Note: Top row of the array above is Negative (predict non-5), and second row is Positive (predict 5)"
   ]
  },
  {
   "cell_type": "code",
   "execution_count": 17,
   "metadata": {},
   "outputs": [
    {
     "data": {
      "text/plain": [
       "0.8370879772350012"
      ]
     },
     "execution_count": 17,
     "metadata": {},
     "output_type": "execute_result"
    }
   ],
   "source": [
    "precision_score(y_train_5, y_train_predict) ## accuracy is 83%"
   ]
  },
  {
   "cell_type": "code",
   "execution_count": 18,
   "metadata": {},
   "outputs": [
    {
     "data": {
      "text/plain": [
       "0.6511713705958311"
      ]
     },
     "execution_count": 18,
     "metadata": {},
     "output_type": "execute_result"
    }
   ],
   "source": [
    "recall_score(y_train_5, y_train_predict) ## recall or also sensitivity or true positive rate\n",
    "# the SGDclassifier only predict correctly 65% of number 5 in dataset"
   ]
  },
  {
   "cell_type": "code",
   "execution_count": 19,
   "metadata": {},
   "outputs": [
    {
     "data": {
      "text/plain": [
       "0.7325171197343846"
      ]
     },
     "execution_count": 19,
     "metadata": {},
     "output_type": "execute_result"
    }
   ],
   "source": [
    "f1_score(y_train_5, y_train_predict)"
   ]
  },
  {
   "cell_type": "markdown",
   "metadata": {},
   "source": [
    "## Precision and Recall\n",
    "</b> Precision and Recall TradeOff: Create a graph for Precision and Recall distribution </b> "
   ]
  },
  {
   "cell_type": "code",
   "execution_count": 20,
   "metadata": {},
   "outputs": [
    {
     "data": {
      "text/plain": [
       "array([  1200.93051237, -26883.79202424, -33072.03475406, ...,\n",
       "        13272.12718981,  -7258.47203373, -16877.50840447])"
      ]
     },
     "execution_count": 20,
     "metadata": {},
     "output_type": "execute_result"
    }
   ],
   "source": [
    "y_score = cross_val_predict(sgd_classifier, X_train, y_train_5, cv=3, method=\"decision_function\")\n",
    "y_score"
   ]
  },
  {
   "cell_type": "code",
   "execution_count": 21,
   "metadata": {},
   "outputs": [],
   "source": [
    "from sklearn.metrics import precision_recall_curve"
   ]
  },
  {
   "cell_type": "code",
   "execution_count": 22,
   "metadata": {},
   "outputs": [
    {
     "data": {
      "image/png": "[encoded data removed]",
      "text/plain": [
       "<Figure size 1080x504 with 1 Axes>"
      ]
     },
     "metadata": {
      "needs_background": "light"
     },
     "output_type": "display_data"
    }
   ],
   "source": [
    "#def PR_threshold_plot(y_train_of_digit, score_of_y):    \n",
    "    precision, recall, threshold = precision_recall_curve(y_train_5, y_score)\n",
    "    plt.figure(figsize=(15,7))\n",
    "    plt.plot(threshold, precision[:-1], \"b--\", label=\"precision\")\n",
    "    plt.plot(threshold, recall[:-1], \"g-\", label=\"recall\")\n",
    "    plt.xlabel(\"Threshold\")\n",
    "    plt.legend(loc=\"center left\")\n",
    "    plt.ylim([0,1])\n",
    "    plt.title(\"Precisions and Recalls relative to Threshold\", fontsize = 16)\n",
    "    plt.show()"
   ]
  },
  {
   "cell_type": "code",
   "execution_count": 23,
   "metadata": {},
   "outputs": [
    {
     "data": {
      "image/png": "[encoded data removed]",
      "text/plain": [
       "<Figure size 1080x504 with 1 Axes>"
      ]
     },
     "metadata": {
      "needs_background": "light"
     },
     "output_type": "display_data"
    }
   ],
   "source": [
    "plt.figure(figsize=(15,7))\n",
    "plt.plot(recall[:-1], precision[:-1])\n",
    "plt.xlabel(\"Recall\",fontsize = 16)\n",
    "plt.ylabel(\"Precision\",fontsize = 16)\n",
    "plt.title(\"Precision vs Recall\", fontsize = 16)\n",
    "plt.show()"
   ]
  },
  {
   "cell_type": "code",
   "execution_count": 24,
   "metadata": {},
   "outputs": [
    {
     "name": "stdout",
     "output_type": "stream",
     "text": [
      "Precision score: 0.8776849642004774\n",
      "Recall score: 0.5427042980999816\n"
     ]
    }
   ],
   "source": [
    "y_pred_90 = (y_score > 2000)\n",
    "print(\"Precision score: \"+str(precision_score(y_train_5 , y_pred_90)))\n",
    "print(\"Recall score: \" + str(recall_score(y_train_5 , y_pred_90)))"
   ]
  },
  {
   "cell_type": "markdown",
   "metadata": {},
   "source": [
    "## Receiver Operating Characteristic (ROC)"
   ]
  },
  {
   "cell_type": "code",
   "execution_count": 25,
   "metadata": {},
   "outputs": [],
   "source": [
    "from sklearn.metrics import roc_curve"
   ]
  },
  {
   "cell_type": "code",
   "execution_count": 26,
   "metadata": {},
   "outputs": [
    {
     "data": {
      "image/png": "[encoded data removed]",
      "text/plain": [
       "<Figure size 1080x504 with 1 Axes>"
      ]
     },
     "metadata": {
      "needs_background": "light"
     },
     "output_type": "display_data"
    }
   ],
   "source": [
    "fpr, tpr, thresholds = roc_curve(y_train_5, y_score)\n",
    "plt.figure(figsize=(15,7))\n",
    "plt.plot(fpr, tpr, linewidth = 2)\n",
    "plt.plot([0, 1],[0, 1], 'k--')\n",
    "plt.axis([0,1,0,1])\n",
    "plt.ylabel(\"True Positive Rate\",fontsize = 16)\n",
    "plt.xlabel(\"False Positive Rate\",fontsize = 16)\n",
    "plt.show()"
   ]
  },
  {
   "cell_type": "code",
   "execution_count": 27,
   "metadata": {},
   "outputs": [
    {
     "data": {
      "text/plain": [
       "0.9604938554008616"
      ]
     },
     "execution_count": 27,
     "metadata": {},
     "output_type": "execute_result"
    }
   ],
   "source": [
    "#Area under the curve of ROC\n",
    "from sklearn.metrics import roc_auc_score\n",
    "roc_auc_score(y_train_5, y_score)"
   ]
  },
  {
   "cell_type": "markdown",
   "metadata": {},
   "source": [
    "## Note:\n",
    "</b> The ROC_AUC ( area under curve of ROC ) is close to 1, which shows that the classifier has high true positive result. However, the questions is if this is reliable result. But in fact, this happen because there are only a few postive 5s compared to negative (non-5)\n",
    "\n",
    "### _Notice_:\n",
    "   __Use PR curve when positive class is rare or when care more about false positives than false negatives. ROC: care more about false negative than false positive.__\n",
    "    "
   ]
  },
  {
   "cell_type": "markdown",
   "metadata": {},
   "source": [
    "</b> Let's try RandomForestClassifier and inspect its perfomance </b> "
   ]
  },
  {
   "cell_type": "code",
   "execution_count": 28,
   "metadata": {},
   "outputs": [
    {
     "name": "stderr",
     "output_type": "stream",
     "text": [
      "/usr/local/lib/python3.6/dist-packages/sklearn/ensemble/forest.py:245: FutureWarning: The default value of n_estimators will change from 10 in version 0.20 to 100 in 0.22.\n",
      "  \"10 in version 0.20 to 100 in 0.22.\", FutureWarning)\n",
      "/usr/local/lib/python3.6/dist-packages/sklearn/ensemble/forest.py:245: FutureWarning: The default value of n_estimators will change from 10 in version 0.20 to 100 in 0.22.\n",
      "  \"10 in version 0.20 to 100 in 0.22.\", FutureWarning)\n",
      "/usr/local/lib/python3.6/dist-packages/sklearn/ensemble/forest.py:245: FutureWarning: The default value of n_estimators will change from 10 in version 0.20 to 100 in 0.22.\n",
      "  \"10 in version 0.20 to 100 in 0.22.\", FutureWarning)\n"
     ]
    },
    {
     "data": {
      "text/plain": [
       "array([[0.1, 0.9],\n",
       "       [1. , 0. ],\n",
       "       [0.9, 0.1],\n",
       "       ...,\n",
       "       [0. , 1. ],\n",
       "       [1. , 0. ],\n",
       "       [1. , 0. ]])"
      ]
     },
     "execution_count": 28,
     "metadata": {},
     "output_type": "execute_result"
    }
   ],
   "source": [
    "from sklearn.ensemble import RandomForestClassifier\n",
    "\n",
    "forest_classifier = RandomForestClassifier(random_state = 42)\n",
    "y_probability_forest = cross_val_predict(forest_classifier, X_train, y_train_5, cv=3, method=\"predict_proba\")\n",
    "y_probability_forest"
   ]
  },
  {
   "cell_type": "code",
   "execution_count": 29,
   "metadata": {},
   "outputs": [],
   "source": [
    "y_score_forest = y_probability_forest[:,1]"
   ]
  },
  {
   "cell_type": "code",
   "execution_count": 30,
   "metadata": {},
   "outputs": [
    {
     "data": {
      "image/png": "[encoded data removed]",
      "text/plain": [
       "<Figure size 1080x504 with 1 Axes>"
      ]
     },
     "metadata": {
      "needs_background": "light"
     },
     "output_type": "display_data"
    }
   ],
   "source": [
    "precision_forest, recall_forest, threshold_forest = precision_recall_curve(y_train_5, y_score_forest)\n",
    "plt.figure(figsize=(15,7))\n",
    "plt.plot(threshold_forest, precision_forest[:-1], \"b--\", label=\"precision_forest\")\n",
    "plt.plot(threshold_forest, recall_forest[:-1], \"g-\", label=\"recall_forest\")\n",
    "plt.xlabel(\"Threshold_forest\")\n",
    "plt.legend(loc=\"center left\")\n",
    "plt.ylim([0,1])\n",
    "plt.title(\"Precisions and Recalls relative to Threshold for Random Forest Classifier\", fontsize = 16)\n",
    "plt.show()"
   ]
  },
  {
   "cell_type": "markdown",
   "metadata": {},
   "source": [
    "## ROC of Random Forest Classifier"
   ]
  },
  {
   "cell_type": "code",
   "execution_count": 31,
   "metadata": {},
   "outputs": [
    {
     "data": {
      "text/plain": [
       "array([2. , 1. , 0.9, 0.8, 0.7, 0.6, 0.5, 0.4, 0.3, 0.2, 0.1, 0. ])"
      ]
     },
     "execution_count": 31,
     "metadata": {},
     "output_type": "execute_result"
    }
   ],
   "source": [
    "fpr_forest, tpr_forest, threshold_forest = roc_curve(y_train_5, y_score_forest)\n",
    "#fpr_forest\n",
    "#tpr_forest\n",
    "threshold_forest"
   ]
  },
  {
   "cell_type": "code",
   "execution_count": 32,
   "metadata": {},
   "outputs": [
    {
     "data": {
      "image/png": "[encoded data removed]",
      "text/plain": [
       "<Figure size 1080x504 with 1 Axes>"
      ]
     },
     "metadata": {
      "needs_background": "light"
     },
     "output_type": "display_data"
    }
   ],
   "source": [
    "plt.figure(figsize=(15,7))\n",
    "plt.plot(fpr, tpr, \"b:\", label = \"SGD\" )\n",
    "plt.plot(fpr_forest, tpr_forest, label=\"Random Forest\")\n",
    "plt.legend(loc=\"lower right\")\n",
    "plt.show()"
   ]
  },
  {
   "cell_type": "code",
   "execution_count": 33,
   "metadata": {},
   "outputs": [
    {
     "data": {
      "text/plain": [
       "0.9920527492698306"
      ]
     },
     "execution_count": 33,
     "metadata": {},
     "output_type": "execute_result"
    }
   ],
   "source": [
    "roc_auc_score(y_train_5, y_score_forest)"
   ]
  },
  {
   "cell_type": "code",
   "execution_count": null,
   "metadata": {},
   "outputs": [],
   "source": []
  },
  {
   "cell_type": "markdown",
   "metadata": {},
   "source": [
    "## Sample Input Function (for fun)"
   ]
  },
  {
   "cell_type": "code",
   "execution_count": 108,
   "metadata": {},
   "outputs": [],
   "source": [
    "from numpy import*\n",
    "from skimage.transform import resize\n",
    "from PIL import Image\n",
    "def sample_input_ml():  \n",
    "    #im = imread(\"digit_5_second.png\")\n",
    "    \n",
    "    ## convert 3D array into 2D or RGB to grayscale\n",
    "    temp=Image.open('digit_5_second.png')\n",
    "    temp=temp.convert('1')      # Convert to black&white\n",
    "    A = array(temp)             # Creates an array, white pixels==True and black pixels==False\n",
    "    new_A=empty((A.shape[0],A.shape[1]),None)    #New array with same size as A\n",
    "     \n",
    "    for i in range(len(A)):\n",
    "        for j in range(len(A[i])):\n",
    "            if A[i][j]==True:\n",
    "                new_A[i][j]=0\n",
    "            else:\n",
    "                new_A[i][j]=1\n",
    "                \n",
    "    ## resize grayscale into 28x28\n",
    "    i_width = 28\n",
    "    i_height = 28\n",
    "    pic = resize(new_A, (i_height, i_width))\n",
    "    \n",
    "    plt.imshow(pic, cmap = mpl.cm.binary, interpolation =\"nearest\")\n",
    "    plt.show()\n",
    "    \n",
    "    pic = np.reshape(pic,(784))\n",
    "    return pic\n",
    "\n",
    "sample_input = sample_input_ml()\n",
    "print(sgd_classifier.predict([sample_input]))\n",
    "forest_classifier.fit(X_train, y_train_5)\n",
    "print(forest_classifier.predict([sample_input]))"
   ]
  },
  {
   "cell_type": "code",
   "execution_count": 109,
   "metadata": {},
   "outputs": [
    {
     "name": "stderr",
     "output_type": "stream",
     "text": [
      "/usr/local/lib/python3.6/dist-packages/skimage/transform/_warps.py:105: UserWarning: The default mode, 'constant', will be changed to 'reflect' in skimage 0.15.\n",
      "  warn(\"The default mode, 'constant', will be changed to 'reflect' in \"\n",
      "/usr/local/lib/python3.6/dist-packages/skimage/transform/_warps.py:110: UserWarning: Anti-aliasing will be enabled by default in skimage 0.15 to avoid aliasing artifacts when down-sampling images.\n",
      "  warn(\"Anti-aliasing will be enabled by default in skimage 0.15 to \"\n"
     ]
    },
    {
     "data": {
      "image/png": "[encoded data removed]",
      "text/plain": [
       "<Figure size 432x288 with 1 Axes>"
      ]
     },
     "metadata": {
      "needs_background": "light"
     },
     "output_type": "display_data"
    }
   ],
   "source": []
  },
  {
   "cell_type": "code",
   "execution_count": 110,
   "metadata": {},
   "outputs": [
    {
     "data": {
      "text/plain": [
       "array([ True])"
      ]
     },
     "execution_count": 110,
     "metadata": {},
     "output_type": "execute_result"
    }
   ],
   "source": []
  },
  {
   "cell_type": "code",
   "execution_count": 111,
   "metadata": {},
   "outputs": [
    {
     "data": {
      "text/plain": [
       "array([False])"
      ]
     },
     "execution_count": 111,
     "metadata": {},
     "output_type": "execute_result"
    }
   ],
   "source": []
  },
  {
   "cell_type": "markdown",
   "metadata": {},
   "source": [
    "## Muticlass Classification"
   ]
  },
  {
   "cell_type": "markdown",
   "metadata": {},
   "source": [
    "- ### Directly use SGD classifier \n",
    "\n",
    "</b> By using Scikit-Learn , the binary classification will automatically run OvA or One vs All method ( except SVM - Support Vector Machine because it use OvO method.  </b>"
   ]
  },
  {
   "cell_type": "markdown",
   "metadata": {},
   "source": [
    "#### SGD classifier"
   ]
  },
  {
   "cell_type": "code",
   "execution_count": 36,
   "metadata": {},
   "outputs": [
    {
     "data": {
      "text/plain": [
       "array([3], dtype=uint8)"
      ]
     },
     "execution_count": 36,
     "metadata": {},
     "output_type": "execute_result"
    }
   ],
   "source": [
    "sgd_clf = SGDClassifier( random_state = 42)\n",
    "sgd_clf.fit(X_train, y_train)\n",
    "sgd_clf.predict([ex_digit])"
   ]
  },
  {
   "cell_type": "code",
   "execution_count": 46,
   "metadata": {},
   "outputs": [
    {
     "name": "stdout",
     "output_type": "stream",
     "text": [
      "The class of ex variable is : 3\n"
     ]
    },
    {
     "data": {
      "text/plain": [
       "array([0, 1, 2, 3, 4, 5, 6, 7, 8, 9], dtype=uint8)"
      ]
     },
     "execution_count": 46,
     "metadata": {},
     "output_type": "execute_result"
    }
   ],
   "source": [
    "digit_score = sgd_clf.decision_function([ex_digit])\n",
    "#digit_score\n",
    "print(\"The class of ex variable is : \" + str(np.argmax(digit_score)))\n",
    "sgd_clf.classes_\n"
   ]
  },
  {
   "cell_type": "markdown",
   "metadata": {},
   "source": [
    "#### Random Forest Classifier "
   ]
  },
  {
   "cell_type": "code",
   "execution_count": 53,
   "metadata": {},
   "outputs": [
    {
     "name": "stderr",
     "output_type": "stream",
     "text": [
      "/usr/local/lib/python3.6/dist-packages/sklearn/ensemble/forest.py:245: FutureWarning: The default value of n_estimators will change from 10 in version 0.20 to 100 in 0.22.\n",
      "  \"10 in version 0.20 to 100 in 0.22.\", FutureWarning)\n"
     ]
    },
    {
     "data": {
      "text/plain": [
       "array([5], dtype=uint8)"
      ]
     },
     "execution_count": 53,
     "metadata": {},
     "output_type": "execute_result"
    }
   ],
   "source": [
    "### Random forest \n",
    "forest_clf = RandomForestClassifier(random_state = 42)\n",
    "forest_clf.fit(X_train, y_train)\n",
    "forest_clf.predict([ex_digit])"
   ]
  },
  {
   "cell_type": "code",
   "execution_count": 59,
   "metadata": {},
   "outputs": [
    {
     "name": "stdout",
     "output_type": "stream",
     "text": [
      "The class of ex_digit variable is : 5\n"
     ]
    }
   ],
   "source": [
    "decision_proba = forest_clf.predict_proba([ex_digit])\n",
    "print(\"The class of ex_digit variable is : \" + str(np.argmax(decision_proba)))"
   ]
  },
  {
   "cell_type": "code",
   "execution_count": 72,
   "metadata": {},
   "outputs": [
    {
     "name": "stdout",
     "output_type": "stream",
     "text": [
      "Probability for each class: \n",
      "Class label 0: 0.0%\n",
      "Class label 1: 0.0%\n",
      "Class label 2: 0.0%\n",
      "Class label 3: 20.0%\n",
      "Class label 4: 0.0%\n",
      "Class label 5: 80.0%\n",
      "Class label 6: 0.0%\n",
      "Class label 7: 0.0%\n",
      "Class label 8: 0.0%\n",
      "Class label 9: 0.0%\n"
     ]
    }
   ],
   "source": [
    "print(\"Probability for each class: \")\n",
    "for i in range(len(decision_proba[0])):\n",
    "    print (\"Class label \" + str(i) + \": \" + str(decision_proba[0,i]*100) + '%')"
   ]
  },
  {
   "cell_type": "markdown",
   "metadata": {},
   "source": [
    "#### Evaluation "
   ]
  },
  {
   "cell_type": "markdown",
   "metadata": {},
   "source": [
    "- #### SGD classifier:"
   ]
  },
  {
   "cell_type": "code",
   "execution_count": 74,
   "metadata": {},
   "outputs": [
    {
     "data": {
      "text/plain": [
       "array([0.87082583, 0.87089354, 0.88628294])"
      ]
     },
     "execution_count": 74,
     "metadata": {},
     "output_type": "execute_result"
    }
   ],
   "source": [
    "cross_val_score( sgd_clf, X_train, y_train, cv= 3, scoring = \"accuracy\")"
   ]
  },
  {
   "cell_type": "markdown",
   "metadata": {},
   "source": [
    "</b> SDG accuracy can be improve to be better than 87% by scaling the input </b>"
   ]
  },
  {
   "cell_type": "code",
   "execution_count": 76,
   "metadata": {},
   "outputs": [],
   "source": [
    "from sklearn.preprocessing import StandardScaler"
   ]
  },
  {
   "cell_type": "code",
   "execution_count": 77,
   "metadata": {},
   "outputs": [
    {
     "name": "stderr",
     "output_type": "stream",
     "text": [
      "/usr/local/lib/python3.6/dist-packages/sklearn/linear_model/stochastic_gradient.py:561: ConvergenceWarning: Maximum number of iteration reached before convergence. Consider increasing max_iter to improve the fit.\n",
      "  ConvergenceWarning)\n"
     ]
    },
    {
     "data": {
      "text/plain": [
       "array([0.89957009, 0.89344467, 0.89963495])"
      ]
     },
     "execution_count": 77,
     "metadata": {},
     "output_type": "execute_result"
    }
   ],
   "source": [
    "scaler = StandardScaler()\n",
    "X_train_scaled = scaler.fit_transform(X_train.astype(np.float64))\n",
    "cross_val_score( sgd_clf, X_train_scaled, y_train, cv= 3, scoring = \"accuracy\")"
   ]
  },
  {
   "cell_type": "markdown",
   "metadata": {},
   "source": [
    "</b> as we all can see, the accuracy of SDG is increasing about 2% after the input is scaled </b>"
   ]
  },
  {
   "cell_type": "markdown",
   "metadata": {},
   "source": [
    "- #### Random forest classifier:"
   ]
  },
  {
   "cell_type": "code",
   "execution_count": 75,
   "metadata": {},
   "outputs": [
    {
     "data": {
      "text/plain": [
       "array([0.94116177, 0.93949697, 0.94374156])"
      ]
     },
     "execution_count": 75,
     "metadata": {},
     "output_type": "execute_result"
    }
   ],
   "source": [
    "cross_val_score( forest_clf, X_train, y_train, cv= 3, scoring = \"accuracy\")"
   ]
  },
  {
   "cell_type": "code",
   "execution_count": null,
   "metadata": {},
   "outputs": [],
   "source": []
  },
  {
   "cell_type": "markdown",
   "metadata": {},
   "source": [
    "#### Test a  example from test set"
   ]
  },
  {
   "cell_type": "code",
   "execution_count": 94,
   "metadata": {},
   "outputs": [
    {
     "data": {
      "text/plain": [
       "RandomForestClassifier(bootstrap=True, class_weight=None, criterion='gini',\n",
       "                       max_depth=None, max_features='auto', max_leaf_nodes=None,\n",
       "                       min_impurity_decrease=0.0, min_impurity_split=None,\n",
       "                       min_samples_leaf=1, min_samples_split=2,\n",
       "                       min_weight_fraction_leaf=0.0, n_estimators=10,\n",
       "                       n_jobs=None, oob_score=False, random_state=42, verbose=0,\n",
       "                       warm_start=False)"
      ]
     },
     "execution_count": 94,
     "metadata": {},
     "output_type": "execute_result"
    }
   ],
   "source": [
    "sgd_clf.fit(X_train_scaled, y_train)\n",
    "forest_clf.fit(X_train_scaled, y_train)"
   ]
  },
  {
   "cell_type": "code",
   "execution_count": 124,
   "metadata": {},
   "outputs": [
    {
     "data": {
      "image/png": "[encoded data removed]",
      "text/plain": [
       "<Figure size 432x288 with 1 Axes>"
      ]
     },
     "metadata": {
      "needs_background": "light"
     },
     "output_type": "display_data"
    }
   ],
   "source": [
    "sample_input = X_test[0].reshape(28,28)\n",
    "plt.imshow(sample_input, cmap = mpl.cm.binary)\n",
    "plt.show()"
   ]
  },
  {
   "cell_type": "code",
   "execution_count": 138,
   "metadata": {},
   "outputs": [
    {
     "name": "stdout",
     "output_type": "stream",
     "text": [
      "Prediction of SGD classifier : [7]\n",
      "Prediction of Random Forest classifier : [8]\n"
     ]
    }
   ],
   "source": [
    "sample_input = X_test[0].reshape(784)\n",
    "print( \"Prediction of SGD classifier : \" + str(sgd_clf.predict([sample_input])) )\n",
    "print( \"Prediction of Random Forest classifier : \" + str( forest_clf.predict([sample_input]) ) )"
   ]
  },
  {
   "cell_type": "markdown",
   "metadata": {},
   "source": [
    "#### Saving the classifier by using pickle"
   ]
  },
  {
   "cell_type": "code",
   "execution_count": 133,
   "metadata": {},
   "outputs": [],
   "source": [
    "import pickle\n",
    "\n",
    "with open(\"SGD_classifier.pkl\", \"wb\") as f:\n",
    "    pickle.dump(sgd_clf,f)"
   ]
  },
  {
   "cell_type": "code",
   "execution_count": 139,
   "metadata": {},
   "outputs": [
    {
     "data": {
      "text/plain": [
       "array([7], dtype=uint8)"
      ]
     },
     "execution_count": 139,
     "metadata": {},
     "output_type": "execute_result"
    }
   ],
   "source": [
    "# reload classifier \n",
    "with open(\"SGD_classifier.pkl\",\"rb\") as file:\n",
    "    sgd = pickle.load(file)\n",
    "    \n",
    "sgd.predict([sample_input])   "
   ]
  },
  {
   "cell_type": "code",
   "execution_count": null,
   "metadata": {},
   "outputs": [],
   "source": []
  },
  {
   "cell_type": "code",
   "execution_count": null,
   "metadata": {},
   "outputs": [],
   "source": []
  },
  {
   "cell_type": "markdown",
   "metadata": {},
   "source": [
    "### Error Analysis "
   ]
  },
  {
   "cell_type": "code",
   "execution_count": 140,
   "metadata": {},
   "outputs": [
    {
     "name": "stderr",
     "output_type": "stream",
     "text": [
      "/usr/local/lib/python3.6/dist-packages/sklearn/linear_model/stochastic_gradient.py:561: ConvergenceWarning: Maximum number of iteration reached before convergence. Consider increasing max_iter to improve the fit.\n",
      "  ConvergenceWarning)\n"
     ]
    },
    {
     "data": {
      "text/plain": [
       "array([[5576,    0,   21,    6,    9,   43,   37,    6,  224,    1],\n",
       "       [   0, 6398,   38,   23,    4,   44,    4,    8,  213,   10],\n",
       "       [  26,   27, 5242,   90,   71,   26,   62,   36,  371,    7],\n",
       "       [  24,   17,  117, 5220,    2,  208,   28,   40,  405,   70],\n",
       "       [  12,   14,   48,   10, 5192,   10,   36,   26,  330,  164],\n",
       "       [  28,   15,   33,  166,   55, 4437,   76,   14,  538,   59],\n",
       "       [  30,   14,   41,    2,   43,   95, 5560,    4,  128,    1],\n",
       "       [  21,    9,   52,   27,   51,   12,    3, 5693,  188,  209],\n",
       "       [  17,   63,   46,   90,    3,  125,   25,   10, 5429,   43],\n",
       "       [  23,   18,   31,   66,  116,   32,    1,  179,  377, 5106]])"
      ]
     },
     "execution_count": 140,
     "metadata": {},
     "output_type": "execute_result"
    }
   ],
   "source": [
    "y_train_pred = cross_val_predict(sgd_clf , X_train_scaled, y_train , cv= 3)\n",
    "con_matrix = confusion_matrix(y_train, y_train_pred)\n",
    "con_matrix"
   ]
  },
  {
   "cell_type": "code",
   "execution_count": 141,
   "metadata": {},
   "outputs": [
    {
     "data": {
      "image/png": "[encoded data removed]",
      "text/plain": [
       "<Figure size 432x288 with 1 Axes>"
      ]
     },
     "metadata": {
      "needs_background": "light"
     },
     "output_type": "display_data"
    }
   ],
   "source": [
    "plt.imshow(con_matrix, cmap = plt.cm.gray)\n",
    "plt.show()"
   ]
  },
  {
   "cell_type": "code",
   "execution_count": 147,
   "metadata": {},
   "outputs": [
    {
     "data": {
      "text/plain": [
       "array([[9.41414824e-01, 0.00000000e+00, 3.54550059e-03, 1.01300017e-03,\n",
       "        1.51950025e-03, 7.25983454e-03, 6.24683437e-03, 1.01300017e-03,\n",
       "        3.78186730e-02, 1.68833361e-04],\n",
       "       [0.00000000e+00, 9.48976565e-01, 5.63630970e-03, 3.41145061e-03,\n",
       "        5.93295758e-04, 6.52625334e-03, 5.93295758e-04, 1.18659152e-03,\n",
       "        3.15929991e-02, 1.48323939e-03],\n",
       "       [4.36388050e-03, 4.53172205e-03, 8.79825445e-01, 1.51057402e-02,\n",
       "        1.19167506e-02, 4.36388050e-03, 1.04061766e-02, 6.04229607e-03,\n",
       "        6.22692179e-02, 1.17489090e-03],\n",
       "       [3.91453270e-03, 2.77279400e-03, 1.90833469e-02, 8.51410863e-01,\n",
       "        3.26211059e-04, 3.39259501e-02, 4.56695482e-03, 6.52422117e-03,\n",
       "        6.60577394e-02, 1.14173870e-02],\n",
       "       [2.05409106e-03, 2.39643958e-03, 8.21636426e-03, 1.71174255e-03,\n",
       "        8.88736734e-01, 1.71174255e-03, 6.16227319e-03, 4.45053064e-03,\n",
       "        5.64875043e-02, 2.80725779e-02],\n",
       "       [5.16509869e-03, 2.76701716e-03, 6.08743774e-03, 3.06216565e-02,\n",
       "        1.01457296e-02, 8.18483675e-01, 1.40195536e-02, 2.58254935e-03,\n",
       "        9.92436820e-02, 1.08836008e-02],\n",
       "       [5.06928016e-03, 2.36566408e-03, 6.92801622e-03, 3.37952011e-04,\n",
       "        7.26596823e-03, 1.60527205e-02, 9.39506590e-01, 6.75904022e-04,\n",
       "        2.16289287e-02, 1.68976005e-04],\n",
       "       [3.35195531e-03, 1.43655227e-03, 8.30007981e-03, 4.30965682e-03,\n",
       "        8.14046289e-03, 1.91540303e-03, 4.78850758e-04, 9.08699122e-01,\n",
       "        3.00079808e-02, 3.33599362e-02],\n",
       "       [2.90548624e-03, 1.07673902e-02, 7.86190395e-03, 1.53819860e-02,\n",
       "        5.12732866e-04, 2.13638694e-02, 4.27277388e-03, 1.70910955e-03,\n",
       "        9.27875577e-01, 7.34917108e-03],\n",
       "       [3.86619600e-03, 3.02571861e-03, 5.21095983e-03, 1.10943016e-02,\n",
       "        1.94990755e-02, 5.37905530e-03, 1.68095478e-04, 3.00890906e-02,\n",
       "        6.33719953e-02, 8.58295512e-01]])"
      ]
     },
     "execution_count": 147,
     "metadata": {},
     "output_type": "execute_result"
    }
   ],
   "source": [
    "row_sums = con_matrix.sum(axis = 1,keepdims = True)\n",
    "norm_con_matrix = con_matrix / row_sums\n",
    "norm_con_matrix"
   ]
  },
  {
   "cell_type": "code",
   "execution_count": 152,
   "metadata": {},
   "outputs": [
    {
     "data": {
      "image/png": "[encoded data removed]",
      "text/plain": [
       "<Figure size 432x288 with 1 Axes>"
      ]
     },
     "metadata": {
      "needs_background": "light"
     },
     "output_type": "display_data"
    }
   ],
   "source": [
    "np.fill_diagonal(norm_con_matrix, 0)\n",
    "plt.imshow(norm_con_matrix, plt.cm.gray)\n",
    "plt.show()"
   ]
  },
  {
   "cell_type": "markdown",
   "metadata": {},
   "source": [
    "__</b>Need to spend more to improve classifier on number 8 </b>__"
   ]
  },
  {
   "cell_type": "code",
   "execution_count": 167,
   "metadata": {},
   "outputs": [],
   "source": [
    "#cl_a, cl_b = 3,5\n",
    "#X_aa = X_train[(y_train == cl_a) & (y_train_pred == cl_a)]\n",
    "#X_ab = X_train[(y_train == cl_a) & (y_train_pred == cl_b)]\n",
    "#X_ba = X_train[(y_train == cl_b) & (y_train_pred == cl_a)]\n",
    "#X_bb = X_train[(y_train == cl_b) & (y_train_pred == cl_b)]\n",
    "\n",
    "#plt.figure(figsize = (8,8))\n",
    "\n",
    "#plt.subplot(221); \n",
    "#plt.imshow(X_aa[:25], aspect = 'auto')#, images_per_row = 5)\n",
    "#plt.subplot(222); plt.imshow(X_ab[:25], aspect = 'auto')#, images_per_row = 5)\n",
    "#plt.subplot(223); plt.imshow(X_ba[:25], aspect = 'auto')#, images_per_row = 5)\n",
    "#plt.subplot(224); plt.imshow(X_bb[:25], aspect = 'auto')#, images_per_row = 5)\n",
    "#plt.show()"
   ]
  },
  {
   "cell_type": "code",
   "execution_count": null,
   "metadata": {},
   "outputs": [],
   "source": []
  },
  {
   "cell_type": "code",
   "execution_count": null,
   "metadata": {},
   "outputs": [],
   "source": []
  }
 ],
 "metadata": {
  "kernelspec": {
   "display_name": "Python 3",
   "language": "python",
   "name": "python3"
  },
  "language_info": {
   "codemirror_mode": {
    "name": "ipython",
    "version": 3
   },
   "file_extension": ".py",
   "mimetype": "text/x-python",
   "name": "python",
   "nbconvert_exporter": "python",
   "pygments_lexer": "ipython3",
   "version": "3.6.8"
  }
 },
 "nbformat": 4,
 "nbformat_minor": 2
}
